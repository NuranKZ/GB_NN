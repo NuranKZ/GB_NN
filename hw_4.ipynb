{
 "cells": [
  {
   "cell_type": "markdown",
   "metadata": {
    "toc": true
   },
   "source": [
    "<h1>Table of Contents<span class=\"tocSkip\"></span></h1>\n",
    "<div class=\"toc\"><ul class=\"toc-item\"><li><span><a href=\"#Loading-data\" data-toc-modified-id=\"Loading-data-1\"><span class=\"toc-item-num\">1&nbsp;&nbsp;</span>Loading data</a></span></li><li><span><a href=\"#User-functions\" data-toc-modified-id=\"User-functions-2\"><span class=\"toc-item-num\">2&nbsp;&nbsp;</span>User functions</a></span></li><li><span><a href=\"#Vanilla-model-run-(original-cifar10)\" data-toc-modified-id=\"Vanilla-model-run-(original-cifar10)-3\"><span class=\"toc-item-num\">3&nbsp;&nbsp;</span>Vanilla model run (original cifar10)</a></span></li><li><span><a href=\"#Param-search-description\" data-toc-modified-id=\"Param-search-description-4\"><span class=\"toc-item-num\">4&nbsp;&nbsp;</span>Param search description</a></span></li><li><span><a href=\"#Full-Augmentation-case\" data-toc-modified-id=\"Full-Augmentation-case-5\"><span class=\"toc-item-num\">5&nbsp;&nbsp;</span>Full Augmentation case</a></span></li><li><span><a href=\"#Optimizers\" data-toc-modified-id=\"Optimizers-6\"><span class=\"toc-item-num\">6&nbsp;&nbsp;</span>Optimizers</a></span></li><li><span><a href=\"#Усложнение-модели.-Вариант-увеличения-нейронов\" data-toc-modified-id=\"Усложнение-модели.-Вариант-увеличения-нейронов-7\"><span class=\"toc-item-num\">7&nbsp;&nbsp;</span>Усложнение модели. Вариант увеличения нейронов</a></span></li><li><span><a href=\"#Усложнение-модели.-Вариант-увеличения-глубины-сети\" data-toc-modified-id=\"Усложнение-модели.-Вариант-увеличения-глубины-сети-8\"><span class=\"toc-item-num\">8&nbsp;&nbsp;</span>Усложнение модели. Вариант увеличения глубины сети</a></span></li><li><span><a href=\"#Обзор-выбранных-вариантов\" data-toc-modified-id=\"Обзор-выбранных-вариантов-9\"><span class=\"toc-item-num\">9&nbsp;&nbsp;</span>Обзор выбранных вариантов</a></span></li><li><span><a href=\"#Оптимизация-наилучшей-модели\" data-toc-modified-id=\"Оптимизация-наилучшей-модели-10\"><span class=\"toc-item-num\">10&nbsp;&nbsp;</span>Оптимизация наилучшей модели</a></span></li></ul></div>"
   ]
  },
  {
   "cell_type": "code",
   "execution_count": 120,
   "metadata": {},
   "outputs": [],
   "source": [
    "# 1. Basic Imports\n",
    "from __future__ import print_function\n",
    "\n",
    "import matplotlib.pyplot as plt\n",
    "import pandas as pd\n",
    "import numpy as np\n",
    "import os\n",
    "import os.path\n",
    "import itertools\n",
    "import warnings\n",
    "import time\n",
    "from pprint import pprint\n",
    "import seaborn as sns\n",
    "\n",
    "\n",
    "from tensorflow import keras as keras\n",
    "import tensorflow as tf\n",
    "from tensorflow.keras.callbacks import EarlyStopping\n",
    "#from tensorflow.keras import backend as K\n",
    "\n",
    "import warnings\n",
    "\n",
    "from tensorflow.keras import Sequential\n",
    "from tensorflow.keras.layers import Dense, Dropout\n",
    "from tensorflow.keras.utils import plot_model\n",
    "from tensorflow.keras.layers import Flatten\n",
    "from tensorflow.keras.layers import Conv2D\n",
    "from tensorflow.keras.layers import Activation\n",
    "from tensorflow.keras.layers import MaxPooling2D\n",
    "from tensorflow.keras.datasets import cifar10\n",
    "from tensorflow.keras.preprocessing.image import ImageDataGenerator\n",
    "\n",
    "from sklearn.metrics import f1_score, accuracy_score, classification_report, confusion_matrix\n",
    "\n",
    "\n",
    "#from sklearn.metrics import r2_score\n",
    "\n",
    "\n",
    "\n",
    "%matplotlib inline\n",
    "warnings.filterwarnings('ignore')"
   ]
  },
  {
   "cell_type": "markdown",
   "metadata": {},
   "source": [
    "#### Loading data"
   ]
  },
  {
   "cell_type": "code",
   "execution_count": 110,
   "metadata": {},
   "outputs": [
    {
     "name": "stdout",
     "output_type": "stream",
     "text": [
      "x_train shape: (50000, 32, 32, 3)\n",
      "50000 тренировочные примеры\n",
      "10000 тестовые примеры\n"
     ]
    }
   ],
   "source": [
    "# 2. Data Loading\n",
    "(x_train, y_train), (x_test, y_test) = cifar10.load_data()\n",
    "print('x_train shape:', x_train.shape)\n",
    "print(x_train.shape[0], 'тренировочные примеры')\n",
    "print(x_test.shape[0], 'тестовые примеры')"
   ]
  },
  {
   "cell_type": "code",
   "execution_count": 111,
   "metadata": {},
   "outputs": [],
   "source": [
    "# 3. Data Preprocessing\n",
    "n_classes = 10\n",
    "y_train_cat = keras.utils.to_categorical(y_train, n_classes)\n",
    "y_test_cat = keras.utils.to_categorical(y_test, n_classes)\n",
    "\n",
    "x_train = x_train.astype('float32')\n",
    "x_test = x_test.astype('float32')\n",
    "x_train /= 255\n",
    "x_test /= 255"
   ]
  },
  {
   "cell_type": "markdown",
   "metadata": {},
   "source": [
    "#### User functions"
   ]
  },
  {
   "cell_type": "code",
   "execution_count": 112,
   "metadata": {},
   "outputs": [],
   "source": [
    "def show_pic(np_array, idx, grid=False, colorbar=False):\n",
    "    shape = np_array[idx].shape\n",
    "    plt.grid(grid)\n",
    "    plt.imshow(np_array[idx]) #.reshape(shape)+1)/2)\n",
    "    if colorbar:\n",
    "        plt.colorbar()\n",
    "    plt.show()"
   ]
  },
  {
   "cell_type": "code",
   "execution_count": 113,
   "metadata": {},
   "outputs": [
    {
     "data": {
      "image/png": "[encoded data removed]",
      "text/plain": [
       "<Figure size 432x288 with 2 Axes>"
      ]
     },
     "metadata": {
      "needs_background": "light"
     },
     "output_type": "display_data"
    }
   ],
   "source": [
    "img_n = 37\n",
    "pic = x_train[img_n]\n",
    "show_pic(x_train, img_n, grid=True, colorbar=True)"
   ]
  },
  {
   "cell_type": "code",
   "execution_count": 147,
   "metadata": {},
   "outputs": [],
   "source": [
    "def full_dense_classifier_compiler(layers_list, compile_params,  display_model=True):\n",
    "    compile_params_keys = list(compile_params.keys())\n",
    "    \n",
    "    if len( set(compile_params_keys) - set(['optimizer', 'loss', 'metrics']) ) > 0:\n",
    "        raise KeyError('incorrect compile params name')\n",
    "    \n",
    "    model = Sequential()\n",
    "    \n",
    "    for layer in layers_list:\n",
    "        model.add(layer)\n",
    "    \n",
    "    optimizer = compile_params['optimizer']\n",
    "    loss = compile_params['loss']\n",
    "    metrics = compile_params['metrics']\n",
    "    \n",
    "    model.compile(optimizer=optimizer, loss=loss, metrics=metrics)\n",
    "\n",
    "    if display_model:\n",
    "        model.summary()\n",
    "\n",
    "    return model\n",
    "\n",
    "def mlp_fit_valid_cnn(model, train_images, train_labels_cat, n_classes, n_epochs=10, batch_size=32, \n",
    "                      validation_data=(x_test, y_test), verbose_mode=0, use_augmentation=False, datagen_instance=None, \n",
    "                      show_chart=True):\n",
    "    \n",
    "    if validation_data:\n",
    "        monitor = 'val_loss'\n",
    "    else:\n",
    "        monitor = 'loss'\n",
    "    \n",
    "    es = EarlyStopping(monitor=monitor, mode='min', verbose=1, patience=0.15*n_epochs)\n",
    "    callbacks = [es]\n",
    "    \n",
    "    start_time = time.time()\n",
    "    \n",
    "    if use_augmentation and datagen_instance:\n",
    "        print('fit process with augmentation started...')\n",
    "        history = model.fit_generator(datagen_instance.flow(train_images, train_labels_cat, batch_size=batch_size),\n",
    "                                     epochs=n_epochs, validation_data=validation_data, workers=-1, callbacks=callbacks,\n",
    "                                     shuffle=True, verbose=verbose_mode)\n",
    "        \n",
    "    else:\n",
    "        print('fit process without augmentation started...')\n",
    "        history = model.fit(train_images, train_labels_cat, epochs=n_epochs, batch_size=batch_size, \n",
    "                            validation_data=validation_data, shuffle=True, verbose=verbose_mode,\n",
    "                            callbacks=callbacks)\n",
    "    \n",
    "    if show_chart:\n",
    "        fig = plt.figure(figsize=(10, 4))\n",
    "        plt.plot(history.history['loss'], label='train')\n",
    "        plt.plot(history.history['val_loss'], label='valid')\n",
    "        plt.legend()\n",
    "        plt.show()\n",
    "    \n",
    "    best_idx = np.array(history.history['val_loss']).argmin()\n",
    "    optimal_epoch_number = history.epoch[best_idx] + 1\n",
    "    best_val_acc = history.history['val_accuracy'][best_idx]\n",
    "    best_val_loss = history.history['val_loss'][best_idx]\n",
    "    best_tr_acc = history.history['accuracy'][best_idx]\n",
    "    \n",
    "    \n",
    "    print(f'optimal epoch number: {optimal_epoch_number}')\n",
    "    print('params on optimal epoch:')\n",
    "    print(f'accuracy on test: {best_val_acc:.4f}, on train: {best_tr_acc:.4f}')\n",
    "    print(f'best test loss: {best_val_loss}')\n",
    "          \n",
    "    return model\n",
    "\n",
    "def plot_conf_matrix(y_true, y_pred, cmap=plt.cm.Blues,  show_cbar=False, font_size=11, font_style='normal', \n",
    "                     alpha=1,linecolor='white', linewidths=0.1):\n",
    "\n",
    "    cnf_matrix = confusion_matrix(y_true, y_pred)\n",
    "    y_true_reshaped = y_true.reshape(1,-1).tolist()[0]\n",
    "    xticklabels = list(set(y_true_reshaped))\n",
    "    matrix = cnf_matrix[::-1]\n",
    "    yticklabels = xticklabels[::-1]\n",
    "\n",
    "    fig = plt.figure(figsize=(7,7))\n",
    "    ax = plt.axes()\n",
    "\n",
    "    annot_kws = {\n",
    "        'fontsize': font_size,\n",
    "        'fontstyle': font_style,\n",
    "        'alpha': alpha\n",
    "    }\n",
    "\n",
    "    cbar_kws = {\"orientation\": \"vertical\",\n",
    "                \"shrink\": 1,\n",
    "                'extend': 'max',\n",
    "                'extendfrac': 0.01,\n",
    "                \"drawedges\": False,\n",
    "                }\n",
    "\n",
    "    ax.set_title('Confusion Matrix')\n",
    "\n",
    "    sns.heatmap(matrix, square=True, ax=ax, cmap=cmap, annot=True, fmt='d',\n",
    "                annot_kws=annot_kws, cbar=show_cbar, cbar_kws=cbar_kws, linecolor=linecolor,\n",
    "                linewidths=linewidths, xticklabels=xticklabels, yticklabels=yticklabels)\n",
    "\n",
    "    ax.set_yticklabels(ax.get_yticklabels(), rotation=0)\n",
    "\n",
    "    ax.set_ylim([0, len(matrix)])\n",
    "    ax.set_xlabel('predicted class')\n",
    "    ax.set_ylabel('true class')\n",
    "    plt.show()\n",
    "    \n",
    "    \n",
    "def mlp_predict_cnn(model, test_images, test_labels, show_metrics=True, show_conf_matrix=True):\n",
    "    \n",
    "    start_time = time.time()\n",
    "    predict = model.predict(test_images)\n",
    "    print(f'predict generated in {(time.time()-start_time):.1f} sec')\n",
    "    predict = np.argmax(predict, axis=1)\n",
    "        \n",
    "    if show_metrics:\n",
    "        print(classification_report(test_labels, predict))\n",
    "    \n",
    "    if show_conf_matrix:\n",
    "        plot_conf_matrix(test_labels, predict)\n",
    "    \n",
    "    return predict"
   ]
  },
  {
   "cell_type": "markdown",
   "metadata": {},
   "source": [
    "#### Vanilla model run (original cifar10)"
   ]
  },
  {
   "cell_type": "code",
   "execution_count": 115,
   "metadata": {},
   "outputs": [
    {
     "name": "stdout",
     "output_type": "stream",
     "text": [
      "Model: \"sequential_9\"\n",
      "_________________________________________________________________\n",
      "Layer (type)                 Output Shape              Param #   \n",
      "=================================================================\n",
      "conv2d_34 (Conv2D)           (None, 32, 32, 32)        896       \n",
      "_________________________________________________________________\n",
      "activation_47 (Activation)   (None, 32, 32, 32)        0         \n",
      "_________________________________________________________________\n",
      "conv2d_35 (Conv2D)           (None, 30, 30, 32)        9248      \n",
      "_________________________________________________________________\n",
      "activation_48 (Activation)   (None, 30, 30, 32)        0         \n",
      "_________________________________________________________________\n",
      "max_pooling2d_16 (MaxPooling (None, 15, 15, 32)        0         \n",
      "_________________________________________________________________\n",
      "dropout_26 (Dropout)         (None, 15, 15, 32)        0         \n",
      "_________________________________________________________________\n",
      "conv2d_36 (Conv2D)           (None, 15, 15, 64)        18496     \n",
      "_________________________________________________________________\n",
      "activation_49 (Activation)   (None, 15, 15, 64)        0         \n",
      "_________________________________________________________________\n",
      "conv2d_37 (Conv2D)           (None, 13, 13, 64)        36928     \n",
      "_________________________________________________________________\n",
      "activation_50 (Activation)   (None, 13, 13, 64)        0         \n",
      "_________________________________________________________________\n",
      "max_pooling2d_17 (MaxPooling (None, 6, 6, 64)          0         \n",
      "_________________________________________________________________\n",
      "dropout_27 (Dropout)         (None, 6, 6, 64)          0         \n",
      "_________________________________________________________________\n",
      "flatten_8 (Flatten)          (None, 2304)              0         \n",
      "_________________________________________________________________\n",
      "dense_23 (Dense)             (None, 512)               1180160   \n",
      "_________________________________________________________________\n",
      "activation_51 (Activation)   (None, 512)               0         \n",
      "_________________________________________________________________\n",
      "dropout_28 (Dropout)         (None, 512)               0         \n",
      "_________________________________________________________________\n",
      "dense_24 (Dense)             (None, 10)                5130      \n",
      "_________________________________________________________________\n",
      "activation_52 (Activation)   (None, 10)                0         \n",
      "=================================================================\n",
      "Total params: 1,250,858\n",
      "Trainable params: 1,250,858\n",
      "Non-trainable params: 0\n",
      "_________________________________________________________________\n"
     ]
    }
   ],
   "source": [
    "# 3.1. Базовая архитектура и параметры компиляции\n",
    "\n",
    "layer_in = Conv2D(32, (3, 3), padding='same',input_shape=x_train.shape[1:])\n",
    "layer_in_f = Activation('relu')\n",
    "layer_1 = Conv2D(32, (3, 3))\n",
    "layer_1_f = Activation('relu')\n",
    "layer_2 = MaxPooling2D(pool_size=(2, 2))\n",
    "layer_3 = Dropout(0.25)\n",
    "layer_4 = Conv2D(64, (3, 3), padding='same')\n",
    "layer_4_f = Activation('relu')\n",
    "layer_5 = Conv2D(64, (3, 3))\n",
    "layer_5_f = Activation('relu')\n",
    "layer_6 = MaxPooling2D(pool_size=(2, 2))\n",
    "layer_7 = Dropout(0.25)\n",
    "layer_8 = Flatten()\n",
    "layer_9 = Dense(512)\n",
    "layer_9_f = Activation('relu')\n",
    "layer_10 = Dropout(0.5)\n",
    "layer_out = Dense(n_classes)\n",
    "layer_out_f = Activation('softmax')\n",
    "\n",
    "cifar10_base_original_layers = [layer_in, layer_in_f, layer_1, layer_1_f, layer_2, layer_3, layer_4, layer_4_f,\n",
    "                               layer_5, layer_5_f, layer_6, layer_7, layer_8, layer_9, layer_9_f, layer_10, \n",
    "                                layer_out, layer_out_f]\n",
    "\n",
    "opt = keras.optimizers.RMSprop(lr=0.0001, decay=1e-6)\n",
    "\n",
    "comp_params = {\n",
    "    'loss': 'categorical_crossentropy',\n",
    "    'optimizer': opt,\n",
    "    'metrics': ['accuracy']\n",
    "}\n",
    "\n",
    "base_cifar10_model = full_dense_classifier_compiler(layers_list=cifar10_base_original_layers,\n",
    "                              compile_params=comp_params)"
   ]
  },
  {
   "cell_type": "markdown",
   "metadata": {},
   "source": [
    "**Важное ограничение**  \n",
    "здесь и далее в разделе поиска параметров я буду задавать жесткое ограничение на количество эпох (25), поскольку  \n",
    "задача является ресурсоемкой, и поиск оптимальных параметров будет осуществляться с таким ограничением"
   ]
  },
  {
   "cell_type": "code",
   "execution_count": 145,
   "metadata": {},
   "outputs": [
    {
     "name": "stdout",
     "output_type": "stream",
     "text": [
      "fit process without augmentation started...\n"
     ]
    },
    {
     "data": {
      "image/png": "[encoded data removed]",
      "text/plain": [
       "<Figure size 720x288 with 1 Axes>"
      ]
     },
     "metadata": {
      "needs_background": "light"
     },
     "output_type": "display_data"
    },
    {
     "name": "stdout",
     "output_type": "stream",
     "text": [
      "optimal epoch number: 25\n",
      "params on optimal epoch:\n",
      "accuracy on test: 0.7555, on train: 0.7486\n",
      "best test loss: 0.7199759812355041\n",
      "refit finished in 189.149873 sec\n",
      "predict generated in 0.6 sec\n",
      "              precision    recall  f1-score   support\n",
      "\n",
      "           0       0.79      0.77      0.78      1000\n",
      "           1       0.91      0.84      0.87      1000\n",
      "           2       0.78      0.49      0.61      1000\n",
      "           3       0.60      0.56      0.58      1000\n",
      "           4       0.66      0.76      0.71      1000\n",
      "           5       0.62      0.71      0.66      1000\n",
      "           6       0.81      0.83      0.82      1000\n",
      "           7       0.82      0.80      0.81      1000\n",
      "           8       0.80      0.91      0.85      1000\n",
      "           9       0.79      0.89      0.84      1000\n",
      "\n",
      "    accuracy                           0.76     10000\n",
      "   macro avg       0.76      0.76      0.75     10000\n",
      "weighted avg       0.76      0.76      0.75     10000\n",
      "\n"
     ]
    },
    {
     "data": {
      "image/png": "[encoded data removed]",
      "text/plain": [
       "<Figure size 504x504 with 1 Axes>"
      ]
     },
     "metadata": {
      "needs_background": "light"
     },
     "output_type": "display_data"
    }
   ],
   "source": [
    "# 3.2. Вариант обучения без аугментации c yearly stopping callback. Валидация на тестовых данных.\n",
    "\n",
    "layer_in = Conv2D(32, (3, 3), padding='same',input_shape=x_train.shape[1:])\n",
    "layer_in_f = Activation('relu')\n",
    "layer_1 = Conv2D(32, (3, 3))\n",
    "layer_1_f = Activation('relu')\n",
    "layer_2 = MaxPooling2D(pool_size=(2, 2))\n",
    "layer_3 = Dropout(0.25)\n",
    "layer_4 = Conv2D(64, (3, 3), padding='same')\n",
    "layer_4_f = Activation('relu')\n",
    "layer_5 = Conv2D(64, (3, 3))\n",
    "layer_5_f = Activation('relu')\n",
    "layer_6 = MaxPooling2D(pool_size=(2, 2))\n",
    "layer_7 = Dropout(0.25)\n",
    "layer_8 = Flatten()\n",
    "layer_9 = Dense(512)\n",
    "layer_9_f = Activation('relu')\n",
    "layer_10 = Dropout(0.5)\n",
    "layer_out = Dense(n_classes)\n",
    "layer_out_f = Activation('softmax')\n",
    "\n",
    "model_vanilla_layers = [layer_in, layer_in_f, layer_1, layer_1_f, layer_2, layer_3, layer_4, layer_4_f,\n",
    "                        layer_5, layer_5_f, layer_6, layer_7, layer_8, layer_9, layer_9_f, layer_10, \n",
    "                        layer_out, layer_out_f]\n",
    "\n",
    "\n",
    "model_vanilla = full_dense_classifier_compiler(layers_list=model_vanilla_layers,\n",
    "                              compile_params=comp_params, display_model=False)\n",
    "\n",
    "model_vanilla = mlp_fit_valid_cnn(model=model_vanilla, train_images=x_train, train_labels_cat=y_train_cat, \n",
    "                                  n_classes=n_classes, n_epochs=25, batch_size=32, verbose_mode=0, \n",
    "                                  validation_data=(x_test, y_test_cat))\n",
    "\n",
    "predict = mlp_predict_cnn(model_vanilla, x_test, y_test, show_metrics=True, show_conf_matrix=True)"
   ]
  },
  {
   "cell_type": "code",
   "execution_count": 146,
   "metadata": {},
   "outputs": [
    {
     "name": "stdout",
     "output_type": "stream",
     "text": [
      "fit process with augmentation started...\n",
      "WARNING:tensorflow:sample_weight modes were coerced from\n",
      "  ...\n",
      "    to  \n",
      "  ['...']\n"
     ]
    },
    {
     "data": {
      "image/png": "[encoded data removed]",
      "text/plain": [
       "<Figure size 720x288 with 1 Axes>"
      ]
     },
     "metadata": {
      "needs_background": "light"
     },
     "output_type": "display_data"
    },
    {
     "name": "stdout",
     "output_type": "stream",
     "text": [
      "optimal epoch number: 25\n",
      "params on optimal epoch:\n",
      "accuracy on test: 0.7405, on train: 0.6900\n",
      "best test loss: 0.7725219518661499\n",
      "refit finished in 419.054280 sec\n",
      "predict generated in 0.6 sec\n",
      "              precision    recall  f1-score   support\n",
      "\n",
      "           0       0.80      0.76      0.78      1000\n",
      "           1       0.87      0.85      0.86      1000\n",
      "           2       0.75      0.48      0.59      1000\n",
      "           3       0.63      0.53      0.57      1000\n",
      "           4       0.67      0.69      0.68      1000\n",
      "           5       0.67      0.65      0.66      1000\n",
      "           6       0.71      0.87      0.78      1000\n",
      "           7       0.74      0.81      0.78      1000\n",
      "           8       0.83      0.86      0.85      1000\n",
      "           9       0.73      0.90      0.81      1000\n",
      "\n",
      "    accuracy                           0.74     10000\n",
      "   macro avg       0.74      0.74      0.73     10000\n",
      "weighted avg       0.74      0.74      0.73     10000\n",
      "\n"
     ]
    },
    {
     "data": {
      "image/png": "[encoded data removed]",
      "text/plain": [
       "<Figure size 504x504 with 1 Axes>"
      ]
     },
     "metadata": {
      "needs_background": "light"
     },
     "output_type": "display_data"
    }
   ],
   "source": [
    "# 3.2. Вариант обучения без аугментации c yearly stopping callback. Валидация на тестовых данных.\n",
    "\n",
    "layer_in = Conv2D(32, (3, 3), padding='same',input_shape=x_train.shape[1:])\n",
    "layer_in_f = Activation('relu')\n",
    "layer_1 = Conv2D(32, (3, 3))\n",
    "layer_1_f = Activation('relu')\n",
    "layer_2 = MaxPooling2D(pool_size=(2, 2))\n",
    "layer_3 = Dropout(0.25)\n",
    "layer_4 = Conv2D(64, (3, 3), padding='same')\n",
    "layer_4_f = Activation('relu')\n",
    "layer_5 = Conv2D(64, (3, 3))\n",
    "layer_5_f = Activation('relu')\n",
    "layer_6 = MaxPooling2D(pool_size=(2, 2))\n",
    "layer_7 = Dropout(0.25)\n",
    "layer_8 = Flatten()\n",
    "layer_9 = Dense(512)\n",
    "layer_9_f = Activation('relu')\n",
    "layer_10 = Dropout(0.5)\n",
    "layer_out = Dense(n_classes)\n",
    "layer_out_f = Activation('softmax')\n",
    "\n",
    "model_vanilla_layers = [layer_in, layer_in_f, layer_1, layer_1_f, layer_2, layer_3, layer_4, layer_4_f,\n",
    "                        layer_5, layer_5_f, layer_6, layer_7, layer_8, layer_9, layer_9_f, layer_10, \n",
    "                        layer_out, layer_out_f]\n",
    "\n",
    "datagen = ImageDataGenerator(\n",
    "                             featurewise_center=False,\n",
    "                             samplewise_center=False,\n",
    "                             featurewise_std_normalization=False,\n",
    "                             samplewise_std_normalization=False,\n",
    "                             zca_whitening=False, \n",
    "                             zca_epsilon=1e-06, \n",
    "                             rotation_range=0, \n",
    "                             width_shift_range=0.1,\n",
    "                             height_shift_range=0.1,\n",
    "                             shear_range=0., \n",
    "                             zoom_range=0., \n",
    "                             channel_shift_range=0.,\n",
    "                             fill_mode='nearest',\n",
    "                             cval=0.,\n",
    "                             horizontal_flip=True,\n",
    "                             vertical_flip=False,\n",
    "                             rescale=None,\n",
    "                             preprocessing_function=None,\n",
    "                             data_format=None,\n",
    "                             validation_split=0.0)\n",
    "\n",
    "\n",
    "model_vanilla_aug = full_dense_classifier_compiler(layers_list=model_vanilla_layers,\n",
    "                              compile_params=comp_params, display_model=False)\n",
    "\n",
    "model_vanilla_aug = mlp_fit_valid_cnn(model=model_vanilla_aug, train_images=x_train, train_labels_cat=y_train_cat, \n",
    "                                      n_classes=n_classes, n_epochs=25, batch_size=32, verbose_mode=0, \n",
    "                                      validation_data=(x_test, y_test_cat), use_augmentation=True, \n",
    "                                      datagen_instance=datagen)\n",
    "\n",
    "predict = mlp_predict_cnn(model_vanilla_aug, x_test, y_test, show_metrics=True, show_conf_matrix=True)"
   ]
  },
  {
   "cell_type": "code",
   "execution_count": 150,
   "metadata": {},
   "outputs": [
    {
     "data": {
      "text/plain": [
       "[{'model_name': 'cifar10_base',\n",
       "  'augmentation': None,\n",
       "  'activation_fx': 'relu',\n",
       "  'dropout': [0.25, 0.25, 0.5],\n",
       "  'padding': 'same',\n",
       "  'optimizer': 'rmsprop(lr=0.0001, decay=1e-6)',\n",
       "  'batch': 32,\n",
       "  'n_epoch': 25,\n",
       "  'f1_macro': 0.7349671970930771,\n",
       "  'accuracy': 0.7405},\n",
       " {'model_name': 'cifar10_base_simple_aug',\n",
       "  'augmentation': 'width_shift_range=0.1, height_shift_range=0.1, horizontal_flip',\n",
       "  'activation_fx': 'relu',\n",
       "  'dropout': [0.25, 0.25, 0.5],\n",
       "  'padding': 'same',\n",
       "  'optimizer': 'rmsprop(lr=0.0001, decay=1e-6)',\n",
       "  'batch': 32,\n",
       "  'n_epoch': 25,\n",
       "  'f1_macro': 0.7541370107020042,\n",
       "  'accuracy': 0.758}]"
      ]
     },
     "execution_count": 150,
     "metadata": {},
     "output_type": "execute_result"
    }
   ],
   "source": [
    "# 3.3. Saving results\n",
    "results = []\n",
    "\n",
    "def add_model_results(predict, y_test=y_test, results=results, description_dict=dict()):\n",
    "    description_dict['f1_macro'] = f1_score(y_test, predict, average='macro')\n",
    "    description_dict['accuracy'] = accuracy_score(y_test, predict)\n",
    "    results.append(description_dict)\n",
    "    return results\n",
    "\n",
    "d1 = {\n",
    "    'model_name': 'cifar10_base',\n",
    "    'augmentation': None,\n",
    "    'activation_fx': 'relu',\n",
    "    'dropout': [0.25, 0.25, 0.5],\n",
    "    'padding': 'same',\n",
    "    'optimizer': 'rmsprop(lr=0.0001, decay=1e-6)',\n",
    "    'batch': 32,\n",
    "    'n_epoch': 25}\n",
    "\n",
    "d2 = {\n",
    "    'model_name': 'cifar10_base_simple_aug',\n",
    "    'augmentation': 'width_shift_range=0.1, height_shift_range=0.1, horizontal_flip',\n",
    "    'activation_fx': 'relu',\n",
    "    'dropout': [0.25, 0.25, 0.5],\n",
    "    'padding': 'same',\n",
    "    'optimizer': 'rmsprop(lr=0.0001, decay=1e-6)',\n",
    "    'batch': 32,\n",
    "    'n_epoch': 25}\n",
    "\n",
    "results = add_model_results(predict, description_dict=d1)\n",
    "results = add_model_results(predict2, description_dict=d2)\n",
    "\n",
    "results"
   ]
  },
  {
   "cell_type": "markdown",
   "metadata": {},
   "source": [
    "#### Param search description"
   ]
  },
  {
   "cell_type": "markdown",
   "metadata": {},
   "source": [
    "Учитывая сложность исходной архитектуры и ресурсоемкость обучения, подбор гиперпараметров будет осуществляться с рядом существенных ограничений и поэтапно. Т.е. поиск по сетке будет последовательным и неполномасштабным, хотя такой принцип на гарантирует нахождение оптимума.\n",
    "\n",
    "Этапы поиска параметров:\n",
    "- (1) Аугментация vs Отсутствие аугментации\n",
    "  - в данном случае будут следующие преобразования: width_shift, height_shift, zoom_range, horizontal_flip, vertical_flip, rotation\n",
    "  \n",
    "- (2) Подбор оптимизатора и его параметров\n",
    "  - базовые параметры оптимизатора: learning rate, epsilon,\n",
    "  - рассматриваемые оптимизаторы: adam, rsmprop, sgd\n",
    "\n",
    "- (3) Увеличение ширины сети (в рамках ДЗ)\n",
    "\n",
    "- (4) В рамках увеличения глубины сети (в рамках ДЗ)\n",
    "\n",
    "Итоговая наилучшая модель будет дополнительно оптимизирована по:\n",
    "- количеству эпох\n",
    "- размеру batch size"
   ]
  },
  {
   "cell_type": "markdown",
   "metadata": {},
   "source": [
    "#### Full Augmentation case"
   ]
  },
  {
   "cell_type": "code",
   "execution_count": 152,
   "metadata": {},
   "outputs": [
    {
     "name": "stdout",
     "output_type": "stream",
     "text": [
      "fit process with augmentation started...\n",
      "WARNING:tensorflow:sample_weight modes were coerced from\n",
      "  ...\n",
      "    to  \n",
      "  ['...']\n"
     ]
    },
    {
     "data": {
      "image/png": "[encoded data removed]",
      "text/plain": [
       "<Figure size 720x288 with 1 Axes>"
      ]
     },
     "metadata": {
      "needs_background": "light"
     },
     "output_type": "display_data"
    },
    {
     "name": "stdout",
     "output_type": "stream",
     "text": [
      "optimal epoch number: 22\n",
      "params on optimal epoch:\n",
      "accuracy on test: 0.6136, on train: 0.5547\n",
      "best test loss: 1.1040604723930358\n",
      "predict generated in 0.6 sec\n",
      "              precision    recall  f1-score   support\n",
      "\n",
      "           0       0.65      0.66      0.66      1000\n",
      "           1       0.64      0.86      0.74      1000\n",
      "           2       0.62      0.38      0.47      1000\n",
      "           3       0.51      0.26      0.35      1000\n",
      "           4       0.61      0.42      0.50      1000\n",
      "           5       0.67      0.45      0.54      1000\n",
      "           6       0.48      0.88      0.62      1000\n",
      "           7       0.53      0.78      0.63      1000\n",
      "           8       0.77      0.63      0.70      1000\n",
      "           9       0.66      0.69      0.68      1000\n",
      "\n",
      "    accuracy                           0.60     10000\n",
      "   macro avg       0.62      0.60      0.59     10000\n",
      "weighted avg       0.62      0.60      0.59     10000\n",
      "\n"
     ]
    }
   ],
   "source": [
    "# 5.1. Model RUN\n",
    "\n",
    "layer_in = Conv2D(32, (3, 3), padding='same',input_shape=x_train.shape[1:])\n",
    "layer_in_f = Activation('relu')\n",
    "layer_1 = Conv2D(32, (3, 3))\n",
    "layer_1_f = Activation('relu')\n",
    "layer_2 = MaxPooling2D(pool_size=(2, 2))\n",
    "layer_3 = Dropout(0.25)\n",
    "layer_4 = Conv2D(64, (3, 3), padding='same')\n",
    "layer_4_f = Activation('relu')\n",
    "layer_5 = Conv2D(64, (3, 3))\n",
    "layer_5_f = Activation('relu')\n",
    "layer_6 = MaxPooling2D(pool_size=(2, 2))\n",
    "layer_7 = Dropout(0.25)\n",
    "layer_8 = Flatten()\n",
    "layer_9 = Dense(512)\n",
    "layer_9_f = Activation('relu')\n",
    "layer_10 = Dropout(0.5)\n",
    "layer_out = Dense(n_classes)\n",
    "layer_out_f = Activation('softmax')\n",
    "\n",
    "model_aug_layers = [layer_in, layer_in_f, layer_1, layer_1_f, layer_2, layer_3, layer_4, layer_4_f,\n",
    "                    layer_5, layer_5_f, layer_6, layer_7, layer_8, layer_9, layer_9_f, layer_10, \n",
    "                    layer_out, layer_out_f]\n",
    "\n",
    "datagen_full = ImageDataGenerator(\n",
    "                             featurewise_center=False,\n",
    "                             samplewise_center=False,\n",
    "                             featurewise_std_normalization=False,\n",
    "                             samplewise_std_normalization=False,\n",
    "                             zca_whitening=False, \n",
    "                             zca_epsilon=1e-06, \n",
    "                             rotation_range=45, \n",
    "                             width_shift_range=0.05,\n",
    "                             height_shift_range=0.05,\n",
    "                             shear_range=0., \n",
    "                             zoom_range=0.10, \n",
    "                             channel_shift_range=0.,\n",
    "                             fill_mode='nearest',\n",
    "                             cval=0.,\n",
    "                             horizontal_flip=True,\n",
    "                             vertical_flip=True,\n",
    "                             rescale=None,\n",
    "                             preprocessing_function=None,\n",
    "                             data_format=None,\n",
    "                             validation_split=0.0)\n",
    "\n",
    "\n",
    "model_aug = full_dense_classifier_compiler(layers_list=model_aug_layers,compile_params=comp_params, display_model=False)\n",
    "\n",
    "model_aug = mlp_fit_valid_cnn(model=model_aug, train_images=x_train, train_labels_cat=y_train_cat, n_classes=n_classes, \n",
    "                              n_epochs=25, batch_size=32, verbose_mode=0, validation_data=(x_test, y_test_cat), \n",
    "                              use_augmentation=True, datagen_instance=datagen_full)\n",
    "\n",
    "predict = mlp_predict_cnn(model_aug, x_test, y_test, show_metrics=True, show_conf_matrix=False)"
   ]
  },
  {
   "cell_type": "code",
   "execution_count": 153,
   "metadata": {},
   "outputs": [],
   "source": [
    "# 5.2. Saving results\n",
    "d3 = {\n",
    "    'model_name': 'cifar10_base_full_aug',\n",
    "    'augmentation': 'rotation:45, width_shift:0.05, height_shift:0.05, zoom:0.10, vert_flip, hor_flip',\n",
    "    'activation_fx': 'relu',\n",
    "    'dropout': [0.25, 0.25, 0.5],\n",
    "    'padding': 'same',\n",
    "    'optimizer': 'rmsprop(lr=0.0001, decay=1e-6)',\n",
    "    'batch': 32,\n",
    "    'n_epoch': 25}\n",
    "\n",
    "results = add_model_results(predict, description_dict=d3)"
   ]
  },
  {
   "cell_type": "markdown",
   "metadata": {},
   "source": [
    "Как видно, в данном случае более широкая (по сравнению с базовой) аугментация только ухудшила результаты. Возможно это связано с тем, что я ограничил кол-во эпох, однако в рамках настоящего анализа в дальнейшем я не буду использовать аугментацию. "
   ]
  },
  {
   "cell_type": "markdown",
   "metadata": {},
   "source": [
    "#### Optimizers"
   ]
  },
  {
   "cell_type": "code",
   "execution_count": 158,
   "metadata": {},
   "outputs": [
    {
     "name": "stdout",
     "output_type": "stream",
     "text": [
      "lr:0.01, epsilon:0.1\n",
      "fit process without augmentation started...\n",
      "Epoch 00017: early stopping\n",
      "optimal epoch number: 13\n",
      "params on optimal epoch:\n",
      "accuracy on test: 0.7637, on train: 0.7673\n",
      "best test loss: 0.68116725730896\n",
      "**********************************************************************\n",
      "lr:0.01, epsilon:0.001\n",
      "fit process without augmentation started...\n",
      "Epoch 00005: early stopping\n",
      "optimal epoch number: 1\n",
      "params on optimal epoch:\n",
      "accuracy on test: 0.1000, on train: 0.1001\n",
      "best test loss: 2.303244585800171\n",
      "**********************************************************************\n",
      "lr:0.01, epsilon:1e-07\n",
      "fit process without augmentation started...\n",
      "Epoch 00006: early stopping\n",
      "optimal epoch number: 2\n",
      "params on optimal epoch:\n",
      "accuracy on test: 0.1000, on train: 0.0979\n",
      "best test loss: 2.302989609146118\n",
      "**********************************************************************\n",
      "lr:0.001, epsilon:0.1\n",
      "fit process without augmentation started...\n",
      "optimal epoch number: 25\n",
      "params on optimal epoch:\n",
      "accuracy on test: 0.7526, on train: 0.7372\n",
      "best test loss: 0.712523898601532\n",
      "**********************************************************************\n",
      "lr:0.001, epsilon:0.001\n",
      "fit process without augmentation started...\n",
      "Epoch 00011: early stopping\n",
      "optimal epoch number: 7\n",
      "params on optimal epoch:\n",
      "accuracy on test: 0.7599, on train: 0.7381\n",
      "best test loss: 0.7012381558418274\n",
      "**********************************************************************\n",
      "lr:0.001, epsilon:1e-07\n",
      "fit process without augmentation started...\n",
      "Epoch 00012: early stopping\n",
      "optimal epoch number: 8\n",
      "params on optimal epoch:\n",
      "accuracy on test: 0.6875, on train: 0.6421\n",
      "best test loss: 0.9420794261932373\n",
      "**********************************************************************\n",
      "lr:1e-05, epsilon:0.1\n",
      "fit process without augmentation started...\n",
      "optimal epoch number: 25\n",
      "params on optimal epoch:\n",
      "accuracy on test: 0.2276, on train: 0.1888\n",
      "best test loss: 2.1600803043365477\n",
      "**********************************************************************\n",
      "lr:1e-05, epsilon:0.001\n",
      "fit process without augmentation started...\n",
      "optimal epoch number: 25\n",
      "params on optimal epoch:\n",
      "accuracy on test: 0.5099, on train: 0.4797\n",
      "best test loss: 1.370973505973816\n",
      "**********************************************************************\n",
      "lr:1e-05, epsilon:1e-07\n",
      "fit process without augmentation started...\n",
      "optimal epoch number: 25\n",
      "params on optimal epoch:\n",
      "accuracy on test: 0.5475, on train: 0.5278\n",
      "best test loss: 1.2729076053619384\n",
      "**********************************************************************\n"
     ]
    }
   ],
   "source": [
    "# 6.1. RMSprop grid search\n",
    "lr_range = [0.01, 0.001, 0.00001]\n",
    "eps_range = [1e-1, 1e-3, 1e-7]\n",
    "combs = list(itertools.product(lr_range, eps_range))\n",
    "\n",
    "for comb in combs:\n",
    "    lr = comb[0]\n",
    "    eps = comb[1]\n",
    "    opt = RMSprop(learning_rate=lr, epsilon=eps)\n",
    "    \n",
    "    comp_params = {\n",
    "    'loss': 'categorical_crossentropy',\n",
    "    'optimizer': opt,\n",
    "    'metrics': ['accuracy']}\n",
    "    \n",
    "    print(f'lr:{lr}, epsilon:{eps}')\n",
    "    \n",
    "    layer_in = Conv2D(32, (3, 3), padding='same',input_shape=x_train.shape[1:])\n",
    "    layer_in_f = Activation('relu')\n",
    "    layer_1 = Conv2D(32, (3, 3))\n",
    "    layer_1_f = Activation('relu')\n",
    "    layer_2 = MaxPooling2D(pool_size=(2, 2))\n",
    "    layer_3 = Dropout(0.25)\n",
    "    layer_4 = Conv2D(64, (3, 3), padding='same')\n",
    "    layer_4_f = Activation('relu')\n",
    "    layer_5 = Conv2D(64, (3, 3))\n",
    "    layer_5_f = Activation('relu')\n",
    "    layer_6 = MaxPooling2D(pool_size=(2, 2))\n",
    "    layer_7 = Dropout(0.25)\n",
    "    layer_8 = Flatten()\n",
    "    layer_9 = Dense(512)\n",
    "    layer_9_f = Activation('relu')\n",
    "    layer_10 = Dropout(0.5)\n",
    "    layer_out = Dense(n_classes)\n",
    "    layer_out_f = Activation('softmax')\n",
    "\n",
    "    model_layers = [layer_in, layer_in_f, layer_1, layer_1_f, layer_2, layer_3, layer_4, layer_4_f,\n",
    "              layer_5, layer_5_f, layer_6, layer_7, layer_8, layer_9, layer_9_f, layer_10, \n",
    "              layer_out, layer_out_f]\n",
    "\n",
    "    model_ = full_dense_classifier_compiler(layers_list=model_layers,compile_params=comp_params, display_model=False)\n",
    "\n",
    "    model_ = mlp_fit_valid_cnn(model=model_, train_images=x_train, train_labels_cat=y_train_cat, n_classes=n_classes, \n",
    "                               n_epochs=25, batch_size=32, verbose_mode=0, validation_data=(x_test, y_test_cat), \n",
    "                               use_augmentation=False, show_chart=False)\n",
    "    \n",
    "    print('*'*70)"
   ]
  },
  {
   "cell_type": "code",
   "execution_count": 159,
   "metadata": {},
   "outputs": [
    {
     "name": "stdout",
     "output_type": "stream",
     "text": [
      "lr:0.001, epsilon:0.01\n",
      "fit process without augmentation started...\n",
      "Epoch 00025: early stopping\n",
      "optimal epoch number: 21\n",
      "params on optimal epoch:\n",
      "accuracy on test: 0.8061, on train: 0.8528\n",
      "best test loss: 0.571261241865158\n",
      "**********************************************************************\n",
      "lr:0.001, epsilon:0.001\n",
      "fit process without augmentation started...\n",
      "Epoch 00017: early stopping\n",
      "optimal epoch number: 13\n",
      "params on optimal epoch:\n",
      "accuracy on test: 0.7908, on train: 0.8141\n",
      "best test loss: 0.6093568591594696\n",
      "**********************************************************************\n",
      "lr:0.001, epsilon:0.0001\n",
      "fit process without augmentation started...\n",
      "Epoch 00019: early stopping\n",
      "optimal epoch number: 15\n",
      "params on optimal epoch:\n",
      "accuracy on test: 0.7865, on train: 0.8193\n",
      "best test loss: 0.633858698272705\n",
      "**********************************************************************\n",
      "lr:0.0001, epsilon:0.01\n",
      "fit process without augmentation started...\n",
      "optimal epoch number: 25\n",
      "params on optimal epoch:\n",
      "accuracy on test: 0.6787, on train: 0.6581\n",
      "best test loss: 0.9207398361206055\n",
      "**********************************************************************\n",
      "lr:0.0001, epsilon:0.001\n",
      "fit process without augmentation started...\n",
      "optimal epoch number: 25\n",
      "params on optimal epoch:\n",
      "accuracy on test: 0.7671, on train: 0.7820\n",
      "best test loss: 0.666340287065506\n",
      "**********************************************************************\n",
      "lr:0.0001, epsilon:0.0001\n",
      "fit process without augmentation started...\n",
      "optimal epoch number: 25\n",
      "params on optimal epoch:\n",
      "accuracy on test: 0.7652, on train: 0.7891\n",
      "best test loss: 0.6815633586883545\n",
      "**********************************************************************\n"
     ]
    }
   ],
   "source": [
    "# 6.2. Adam grid search\n",
    "# -- здесь я поменял пограничные значения lr и eps\n",
    "\n",
    "lr_range = [0.001, 0.0001]\n",
    "eps_range = [1e-2, 1e-3, 1e-4]\n",
    "combs = list(itertools.product(lr_range, eps_range))\n",
    "\n",
    "for comb in combs:\n",
    "    lr = comb[0]\n",
    "    eps = comb[1]\n",
    "    opt = Adam(learning_rate=lr, epsilon=eps)\n",
    "    \n",
    "    comp_params = {\n",
    "    'loss': 'categorical_crossentropy',\n",
    "    'optimizer': opt,\n",
    "    'metrics': ['accuracy']}\n",
    "    \n",
    "    print(f'lr:{lr}, epsilon:{eps}')\n",
    "    \n",
    "    layer_in = Conv2D(32, (3, 3), padding='same',input_shape=x_train.shape[1:])\n",
    "    layer_in_f = Activation('relu')\n",
    "    layer_1 = Conv2D(32, (3, 3))\n",
    "    layer_1_f = Activation('relu')\n",
    "    layer_2 = MaxPooling2D(pool_size=(2, 2))\n",
    "    layer_3 = Dropout(0.25)\n",
    "    layer_4 = Conv2D(64, (3, 3), padding='same')\n",
    "    layer_4_f = Activation('relu')\n",
    "    layer_5 = Conv2D(64, (3, 3))\n",
    "    layer_5_f = Activation('relu')\n",
    "    layer_6 = MaxPooling2D(pool_size=(2, 2))\n",
    "    layer_7 = Dropout(0.25)\n",
    "    layer_8 = Flatten()\n",
    "    layer_9 = Dense(512)\n",
    "    layer_9_f = Activation('relu')\n",
    "    layer_10 = Dropout(0.5)\n",
    "    layer_out = Dense(n_classes)\n",
    "    layer_out_f = Activation('softmax')\n",
    "\n",
    "    model_layers = [layer_in, layer_in_f, layer_1, layer_1_f, layer_2, layer_3, layer_4, layer_4_f,\n",
    "              layer_5, layer_5_f, layer_6, layer_7, layer_8, layer_9, layer_9_f, layer_10, \n",
    "              layer_out, layer_out_f]\n",
    "\n",
    "    model_ = full_dense_classifier_compiler(layers_list=model_layers,compile_params=comp_params, display_model=False)\n",
    "\n",
    "    model_ = mlp_fit_valid_cnn(model=model_, train_images=x_train, train_labels_cat=y_train_cat, n_classes=n_classes, \n",
    "                              n_epochs=25, batch_size=32, verbose_mode=0, validation_data=(x_test, y_test_cat), \n",
    "                              use_augmentation=False, show_chart=False)\n",
    "    \n",
    "    print('*'*70)"
   ]
  },
  {
   "cell_type": "code",
   "execution_count": 160,
   "metadata": {},
   "outputs": [
    {
     "name": "stdout",
     "output_type": "stream",
     "text": [
      "lr:0.01\n",
      "fit process without augmentation started...\n",
      "optimal epoch number: 25\n",
      "params on optimal epoch:\n",
      "accuracy on test: 0.7633, on train: 0.7574\n",
      "best test loss: 0.6706359209060669\n",
      "**********************************************************************\n",
      "lr:0.001\n",
      "fit process without augmentation started...\n",
      "optimal epoch number: 25\n",
      "params on optimal epoch:\n",
      "accuracy on test: 0.5000, on train: 0.4631\n",
      "best test loss: 1.3882960391998291\n",
      "**********************************************************************\n",
      "lr:0.0001\n",
      "fit process without augmentation started...\n",
      "optimal epoch number: 25\n",
      "params on optimal epoch:\n",
      "accuracy on test: 0.2607, on train: 0.2145\n",
      "best test loss: 2.0435250785827637\n",
      "**********************************************************************\n"
     ]
    }
   ],
   "source": [
    "# 6.3. SGD grid search\n",
    "lr_range = [0.01, 0.001, 0.0001]\n",
    "combs = list(itertools.product(lr_range, eps_range))\n",
    "\n",
    "for lr in lr_range:\n",
    "    opt = SGD(learning_rate=lr)\n",
    "    \n",
    "    comp_params = {\n",
    "    'loss': 'categorical_crossentropy',\n",
    "    'optimizer': opt,\n",
    "    'metrics': ['accuracy']}\n",
    "    \n",
    "    print(f'lr:{lr}')\n",
    "    \n",
    "    layer_in = Conv2D(32, (3, 3), padding='same',input_shape=x_train.shape[1:])\n",
    "    layer_in_f = Activation('relu')\n",
    "    layer_1 = Conv2D(32, (3, 3))\n",
    "    layer_1_f = Activation('relu')\n",
    "    layer_2 = MaxPooling2D(pool_size=(2, 2))\n",
    "    layer_3 = Dropout(0.25)\n",
    "    layer_4 = Conv2D(64, (3, 3), padding='same')\n",
    "    layer_4_f = Activation('relu')\n",
    "    layer_5 = Conv2D(64, (3, 3))\n",
    "    layer_5_f = Activation('relu')\n",
    "    layer_6 = MaxPooling2D(pool_size=(2, 2))\n",
    "    layer_7 = Dropout(0.25)\n",
    "    layer_8 = Flatten()\n",
    "    layer_9 = Dense(512)\n",
    "    layer_9_f = Activation('relu')\n",
    "    layer_10 = Dropout(0.5)\n",
    "    layer_out = Dense(n_classes)\n",
    "    layer_out_f = Activation('softmax')\n",
    "\n",
    "    model_layers = [layer_in, layer_in_f, layer_1, layer_1_f, layer_2, layer_3, layer_4, layer_4_f,\n",
    "              layer_5, layer_5_f, layer_6, layer_7, layer_8, layer_9, layer_9_f, layer_10, \n",
    "              layer_out, layer_out_f]\n",
    "\n",
    "    model_ = full_dense_classifier_compiler(layers_list=model_layers,compile_params=comp_params, display_model=False)\n",
    "\n",
    "    model_ = mlp_fit_valid_cnn(model=model_, train_images=x_train, train_labels_cat=y_train_cat, n_classes=n_classes, \n",
    "                              n_epochs=25, batch_size=32, verbose_mode=0, validation_data=(x_test, y_test_cat), \n",
    "                              use_augmentation=False, show_chart=False)\n",
    "    \n",
    "    print('*'*70)"
   ]
  },
  {
   "cell_type": "code",
   "execution_count": 161,
   "metadata": {},
   "outputs": [
    {
     "name": "stdout",
     "output_type": "stream",
     "text": [
      "fit process without augmentation started...\n",
      "Epoch 00022: early stopping\n"
     ]
    },
    {
     "data": {
      "image/png": "[encoded data removed]",
      "text/plain": [
       "<Figure size 720x288 with 1 Axes>"
      ]
     },
     "metadata": {
      "needs_background": "light"
     },
     "output_type": "display_data"
    },
    {
     "name": "stdout",
     "output_type": "stream",
     "text": [
      "optimal epoch number: 18\n",
      "params on optimal epoch:\n",
      "accuracy on test: 0.8048, on train: 0.8377\n",
      "best test loss: 0.5853665685653686\n",
      "predict generated in 0.6 sec\n",
      "              precision    recall  f1-score   support\n",
      "\n",
      "           0       0.81      0.84      0.82      1000\n",
      "           1       0.90      0.90      0.90      1000\n",
      "           2       0.78      0.69      0.73      1000\n",
      "           3       0.56      0.70      0.62      1000\n",
      "           4       0.78      0.78      0.78      1000\n",
      "           5       0.75      0.68      0.71      1000\n",
      "           6       0.89      0.80      0.84      1000\n",
      "           7       0.90      0.80      0.85      1000\n",
      "           8       0.81      0.92      0.86      1000\n",
      "           9       0.87      0.87      0.87      1000\n",
      "\n",
      "    accuracy                           0.80     10000\n",
      "   macro avg       0.80      0.80      0.80     10000\n",
      "weighted avg       0.80      0.80      0.80     10000\n",
      "\n"
     ]
    }
   ],
   "source": [
    "# 6.4. Optimal Optimizer training and saving results\n",
    "\n",
    "# RMSprop - нестабильный, а SGD - показывает плохие результаты. Выбран Adam\n",
    "\n",
    "# Adam lr:0.001, epsilon:0.01\n",
    "best_opt = Adam(learning_rate=0.001, epsilon=0.01)\n",
    "\n",
    "comp_params = {\n",
    "    'loss': 'categorical_crossentropy',\n",
    "    'optimizer': best_opt,\n",
    "    'metrics': ['accuracy']}\n",
    "    \n",
    "layer_in = Conv2D(32, (3, 3), padding='same',input_shape=x_train.shape[1:])\n",
    "layer_in_f = Activation('relu')\n",
    "layer_1 = Conv2D(32, (3, 3))\n",
    "layer_1_f = Activation('relu')\n",
    "layer_2 = MaxPooling2D(pool_size=(2, 2))\n",
    "layer_3 = Dropout(0.25)\n",
    "layer_4 = Conv2D(64, (3, 3), padding='same')\n",
    "layer_4_f = Activation('relu')\n",
    "layer_5 = Conv2D(64, (3, 3))\n",
    "layer_5_f = Activation('relu')\n",
    "layer_6 = MaxPooling2D(pool_size=(2, 2))\n",
    "layer_7 = Dropout(0.25)\n",
    "layer_8 = Flatten()\n",
    "layer_9 = Dense(512)\n",
    "layer_9_f = Activation('relu')\n",
    "layer_10 = Dropout(0.5)\n",
    "layer_out = Dense(n_classes)\n",
    "layer_out_f = Activation('softmax')\n",
    "\n",
    "model_layers = [layer_in, layer_in_f, layer_1, layer_1_f, layer_2, layer_3, layer_4, layer_4_f,\n",
    "                layer_5, layer_5_f, layer_6, layer_7, layer_8, layer_9, layer_9_f, layer_10, \n",
    "                layer_out, layer_out_f]\n",
    "\n",
    "model_adam = full_dense_classifier_compiler(layers_list=model_layers,compile_params=comp_params, display_model=False)\n",
    "\n",
    "model_adam = mlp_fit_valid_cnn(model=model_adam, train_images=x_train, train_labels_cat=y_train_cat, n_classes=n_classes, \n",
    "                              n_epochs=25, batch_size=32, verbose_mode=0, validation_data=(x_test, y_test_cat), \n",
    "                              use_augmentation=False, show_chart=True)\n",
    "\n",
    "predict = mlp_predict_cnn(model_adam, x_test, y_test, show_metrics=True, show_conf_matrix=False)\n",
    "\n",
    "d4 = {\n",
    "    'model_name': 'cifar10_base_adam',\n",
    "    'augmentation': None,\n",
    "    'activation_fx': 'relu',\n",
    "    'dropout': [0.25, 0.25, 0.5],\n",
    "    'padding': 'same',\n",
    "    'optimizer': 'adam(lr=0.001, epsilon=0.01)',\n",
    "    'batch': 32,\n",
    "    'n_epoch': 25}\n",
    "\n",
    "results = add_model_results(predict, description_dict=d4)"
   ]
  },
  {
   "cell_type": "markdown",
   "metadata": {},
   "source": [
    "#### Усложнение модели. Вариант увеличения нейронов"
   ]
  },
  {
   "cell_type": "code",
   "execution_count": 165,
   "metadata": {},
   "outputs": [
    {
     "name": "stdout",
     "output_type": "stream",
     "text": [
      "fit process without augmentation started...\n",
      "Epoch 00018: early stopping\n"
     ]
    },
    {
     "data": {
      "image/png": "[encoded data removed]",
      "text/plain": [
       "<Figure size 720x288 with 1 Axes>"
      ]
     },
     "metadata": {
      "needs_background": "light"
     },
     "output_type": "display_data"
    },
    {
     "name": "stdout",
     "output_type": "stream",
     "text": [
      "optimal epoch number: 14\n",
      "params on optimal epoch:\n",
      "accuracy on test: 0.8074, on train: 0.8692\n",
      "best test loss: 0.5822242601156234\n"
     ]
    }
   ],
   "source": [
    "# 7.1. Пропорциональное увеличение всех нейронов в conv2d в 2 раза\n",
    "\n",
    "comp_params = {\n",
    "    'loss': 'categorical_crossentropy',\n",
    "    'optimizer': best_opt,\n",
    "    'metrics': ['accuracy']}\n",
    "    \n",
    "layer_in = Conv2D(64, (3, 3), padding='same',input_shape=x_train.shape[1:])\n",
    "layer_in_f = Activation('relu')\n",
    "layer_1 = Conv2D(64, (3, 3))\n",
    "layer_1_f = Activation('relu')\n",
    "layer_2 = MaxPooling2D(pool_size=(2, 2))\n",
    "layer_3 = Dropout(0.25)\n",
    "layer_4 = Conv2D(128, (3, 3), padding='same')\n",
    "layer_4_f = Activation('relu')\n",
    "layer_5 = Conv2D(128, (3, 3))\n",
    "layer_5_f = Activation('relu')\n",
    "layer_6 = MaxPooling2D(pool_size=(2, 2))\n",
    "layer_7 = Dropout(0.25)\n",
    "layer_8 = Flatten()\n",
    "layer_9 = Dense(512)\n",
    "layer_9_f = Activation('relu')\n",
    "layer_10 = Dropout(0.5)\n",
    "layer_out = Dense(n_classes)\n",
    "layer_out_f = Activation('softmax')\n",
    "\n",
    "model_neirons_layers = [layer_in, layer_in_f, layer_1, layer_1_f, layer_2, layer_3, layer_4, layer_4_f,\n",
    "                        layer_5, layer_5_f, layer_6, layer_7, layer_8, layer_9, layer_9_f, layer_10, \n",
    "                        layer_out, layer_out_f]\n",
    "\n",
    "model_neirons = full_dense_classifier_compiler(layers_list=model_neirons_layers,compile_params=comp_params, \n",
    "                                               display_model=False)\n",
    "\n",
    "model_neirons = mlp_fit_valid_cnn(model=model_neirons, train_images=x_train, train_labels_cat=y_train_cat, \n",
    "                                  n_classes=n_classes, n_epochs=25, batch_size=32, verbose_mode=0, \n",
    "                                  validation_data=(x_test, y_test_cat), use_augmentation=False, show_chart=True)"
   ]
  },
  {
   "cell_type": "code",
   "execution_count": 166,
   "metadata": {},
   "outputs": [
    {
     "name": "stdout",
     "output_type": "stream",
     "text": [
      "fit process without augmentation started...\n",
      "Epoch 00012: early stopping\n"
     ]
    },
    {
     "data": {
      "image/png": "[encoded data removed]",
      "text/plain": [
       "<Figure size 720x288 with 1 Axes>"
      ]
     },
     "metadata": {
      "needs_background": "light"
     },
     "output_type": "display_data"
    },
    {
     "name": "stdout",
     "output_type": "stream",
     "text": [
      "optimal epoch number: 8\n",
      "params on optimal epoch:\n",
      "accuracy on test: 0.7845, on train: 0.8105\n",
      "best test loss: 0.6186598917484284\n"
     ]
    }
   ],
   "source": [
    "# 7.2. Постепенное интенсивное увеличение нейронов\n",
    "\n",
    "comp_params = {\n",
    "    'loss': 'categorical_crossentropy',\n",
    "    'optimizer': best_opt,\n",
    "    'metrics': ['accuracy']}\n",
    "    \n",
    "layer_in = Conv2D(32, (3, 3), padding='same',input_shape=x_train.shape[1:])\n",
    "layer_in_f = Activation('relu')\n",
    "layer_1 = Conv2D(64, (3, 3))\n",
    "layer_1_f = Activation('relu')\n",
    "layer_2 = MaxPooling2D(pool_size=(2, 2))\n",
    "layer_3 = Dropout(0.25)\n",
    "layer_4 = Conv2D(128, (3, 3), padding='same')\n",
    "layer_4_f = Activation('relu')\n",
    "layer_5 = Conv2D(256, (3, 3))\n",
    "layer_5_f = Activation('relu')\n",
    "layer_6 = MaxPooling2D(pool_size=(2, 2))\n",
    "layer_7 = Dropout(0.25)\n",
    "layer_8 = Flatten()\n",
    "layer_9 = Dense(512)\n",
    "layer_9_f = Activation('relu')\n",
    "layer_10 = Dropout(0.5)\n",
    "layer_out = Dense(n_classes)\n",
    "layer_out_f = Activation('softmax')\n",
    "\n",
    "model_neirons_layers = [layer_in, layer_in_f, layer_1, layer_1_f, layer_2, layer_3, layer_4, layer_4_f,\n",
    "                        layer_5, layer_5_f, layer_6, layer_7, layer_8, layer_9, layer_9_f, layer_10, \n",
    "                        layer_out, layer_out_f]\n",
    "\n",
    "model_neirons = full_dense_classifier_compiler(layers_list=model_neirons_layers,compile_params=comp_params, \n",
    "                                               display_model=False)\n",
    "\n",
    "model_neirons = mlp_fit_valid_cnn(model=model_neirons, train_images=x_train, train_labels_cat=y_train_cat, \n",
    "                                  n_classes=n_classes, n_epochs=25, batch_size=32, verbose_mode=0, \n",
    "                                  validation_data=(x_test, y_test_cat), use_augmentation=False, show_chart=True)"
   ]
  },
  {
   "cell_type": "code",
   "execution_count": 170,
   "metadata": {},
   "outputs": [
    {
     "name": "stdout",
     "output_type": "stream",
     "text": [
      "fit process without augmentation started...\n",
      "Epoch 00015: early stopping\n"
     ]
    },
    {
     "data": {
      "image/png": "[encoded data removed]",
      "text/plain": [
       "<Figure size 720x288 with 1 Axes>"
      ]
     },
     "metadata": {
      "needs_background": "light"
     },
     "output_type": "display_data"
    },
    {
     "name": "stdout",
     "output_type": "stream",
     "text": [
      "optimal epoch number: 11\n",
      "params on optimal epoch:\n",
      "accuracy on test: 0.8139, on train: 0.8904\n",
      "best test loss: 0.5832279967546463\n"
     ]
    }
   ],
   "source": [
    "# 7.3. Постоянное большое кол-во нейронов (256)\n",
    "comp_params = {\n",
    "    'loss': 'categorical_crossentropy',\n",
    "    'optimizer': best_opt,\n",
    "    'metrics': ['accuracy']}\n",
    "    \n",
    "layer_in = Conv2D(256, (3, 3), padding='same',input_shape=x_train.shape[1:])\n",
    "layer_in_f = Activation('relu')\n",
    "layer_1 = Conv2D(256, (3, 3))\n",
    "layer_1_f = Activation('relu')\n",
    "layer_2 = MaxPooling2D(pool_size=(2, 2))\n",
    "layer_3 = Dropout(0.25)\n",
    "layer_4 = Conv2D(256, (3, 3), padding='same')\n",
    "layer_4_f = Activation('relu')\n",
    "layer_5 = Conv2D(256, (3, 3))\n",
    "layer_5_f = Activation('relu')\n",
    "layer_6 = MaxPooling2D(pool_size=(2, 2))\n",
    "layer_7 = Dropout(0.25)\n",
    "layer_8 = Flatten()\n",
    "layer_9 = Dense(512)\n",
    "layer_9_f = Activation('relu')\n",
    "layer_10 = Dropout(0.5)\n",
    "layer_out = Dense(n_classes)\n",
    "layer_out_f = Activation('softmax')\n",
    "\n",
    "model_neirons_layers = [layer_in, layer_in_f, layer_1, layer_1_f, layer_2, layer_3, layer_4, layer_4_f,\n",
    "                        layer_5, layer_5_f, layer_6, layer_7, layer_8, layer_9, layer_9_f, layer_10, \n",
    "                        layer_out, layer_out_f]\n",
    "\n",
    "model_neirons = full_dense_classifier_compiler(layers_list=model_neirons_layers,compile_params=comp_params, \n",
    "                                               display_model=False)\n",
    "\n",
    "model_neirons = mlp_fit_valid_cnn(model=model_neirons, train_images=x_train, train_labels_cat=y_train_cat, \n",
    "                                  n_classes=n_classes, n_epochs=25, batch_size=32, verbose_mode=0, \n",
    "                                  validation_data=(x_test, y_test_cat), use_augmentation=False, show_chart=True)"
   ]
  },
  {
   "cell_type": "markdown",
   "metadata": {},
   "source": [
    "Как видно, увеличение кол-ва нейронов не привносит заметного улучшения модели."
   ]
  },
  {
   "cell_type": "markdown",
   "metadata": {},
   "source": [
    "#### Усложнение модели. Вариант увеличения глубины сети"
   ]
  },
  {
   "cell_type": "code",
   "execution_count": 171,
   "metadata": {},
   "outputs": [
    {
     "name": "stdout",
     "output_type": "stream",
     "text": [
      "fit process without augmentation started...\n"
     ]
    },
    {
     "data": {
      "image/png": "[encoded data removed]",
      "text/plain": [
       "<Figure size 720x288 with 1 Axes>"
      ]
     },
     "metadata": {
      "needs_background": "light"
     },
     "output_type": "display_data"
    },
    {
     "name": "stdout",
     "output_type": "stream",
     "text": [
      "optimal epoch number: 25\n",
      "params on optimal epoch:\n",
      "accuracy on test: 0.8201, on train: 0.8111\n",
      "best test loss: 0.5440211864948272\n"
     ]
    }
   ],
   "source": [
    "# 8.1. Добавление 1 дополнительного слоя с увеличением кол-ва нейронов (х2)\n",
    "comp_params = {\n",
    "    'loss': 'categorical_crossentropy',\n",
    "    'optimizer': best_opt,\n",
    "    'metrics': ['accuracy']}\n",
    "    \n",
    "layer_in = Conv2D(32, (3, 3), padding='same',input_shape=x_train.shape[1:])\n",
    "layer_in_f = Activation('relu')\n",
    "layer_1 = Conv2D(32, (3, 3))\n",
    "layer_1_f = Activation('relu')\n",
    "layer_2 = MaxPooling2D(pool_size=(2, 2))\n",
    "layer_3 = Dropout(0.25)\n",
    "layer_4 = Conv2D(64, (3, 3), padding='same')\n",
    "layer_4_f = Activation('relu')\n",
    "layer_5 = Conv2D(64, (3, 3))\n",
    "layer_5_f = Activation('relu')\n",
    "layer_6 = MaxPooling2D(pool_size=(2, 2))\n",
    "layer_7 = Dropout(0.25)\n",
    "layer_5_1 = Conv2D(128, (3, 3))\n",
    "layer_5_1_f = Activation('relu')\n",
    "layer_6_1 = MaxPooling2D(pool_size=(2, 2))\n",
    "layer_7_1 = Dropout(0.25)\n",
    "layer_8 = Flatten()\n",
    "layer_9 = Dense(512)\n",
    "layer_9_f = Activation('relu')\n",
    "layer_10 = Dropout(0.5)\n",
    "layer_out = Dense(n_classes)\n",
    "layer_out_f = Activation('softmax')\n",
    "\n",
    "model_addlayer_layers = [layer_in, layer_in_f, layer_1, layer_1_f, layer_2, layer_3, layer_4, layer_4_f,\n",
    "                        layer_5, layer_5_f, layer_6, layer_7, \n",
    "                        layer_5_1, layer_5_1_f, layer_6_1, layer_7_1, \n",
    "                        layer_8, layer_9, layer_9_f, layer_10, \n",
    "                        layer_out, layer_out_f]\n",
    "\n",
    "model_addlayer = full_dense_classifier_compiler(layers_list=model_addlayer_layers,compile_params=comp_params, \n",
    "                                               display_model=False)\n",
    "\n",
    "model_addlayer = mlp_fit_valid_cnn(model=model_addlayer, train_images=x_train, train_labels_cat=y_train_cat, \n",
    "                                  n_classes=n_classes, n_epochs=25, batch_size=32, verbose_mode=0, \n",
    "                                  validation_data=(x_test, y_test_cat), use_augmentation=False, show_chart=True)"
   ]
  },
  {
   "cell_type": "code",
   "execution_count": 174,
   "metadata": {},
   "outputs": [
    {
     "name": "stdout",
     "output_type": "stream",
     "text": [
      "fit process without augmentation started...\n"
     ]
    },
    {
     "data": {
      "image/png": "[encoded data removed]",
      "text/plain": [
       "<Figure size 720x288 with 1 Axes>"
      ]
     },
     "metadata": {
      "needs_background": "light"
     },
     "output_type": "display_data"
    },
    {
     "name": "stdout",
     "output_type": "stream",
     "text": [
      "optimal epoch number: 25\n",
      "params on optimal epoch:\n",
      "accuracy on test: 0.8108, on train: 0.8443\n",
      "best test loss: 0.5585667886257172\n"
     ]
    }
   ],
   "source": [
    "# 8.1. Добавление 1 пары дополнительных слоeв с увеличением кол-ва нейронов (х2)\n",
    "comp_params = {\n",
    "    'loss': 'categorical_crossentropy',\n",
    "    'optimizer': best_opt,\n",
    "    'metrics': ['accuracy']}\n",
    "    \n",
    "layer_in = Conv2D(32, (3, 3), padding='same',input_shape=x_train.shape[1:])\n",
    "layer_in_f = Activation('relu')\n",
    "layer_1 = Conv2D(32, (3, 3))\n",
    "layer_1_f = Activation('relu')\n",
    "layer_2 = MaxPooling2D(pool_size=(2, 2))\n",
    "layer_3 = Dropout(0.25)\n",
    "layer_4 = Conv2D(64, (3, 3), padding='same')\n",
    "layer_4_f = Activation('relu')\n",
    "layer_5 = Conv2D(64, (3, 3))\n",
    "layer_5_f = Activation('relu')\n",
    "layer_6 = MaxPooling2D(pool_size=(2, 2))\n",
    "layer_7 = Dropout(0.25)\n",
    "layer_5_1 = Conv2D(128, (3, 3))\n",
    "layer_5_1_f = Activation('relu')\n",
    "layer_5_2 = Conv2D(128, (3, 3))\n",
    "layer_5_2_f = Activation('relu')\n",
    "layer_6_2 = MaxPooling2D(pool_size=(2, 2))\n",
    "layer_7_2 = Dropout(0.25)\n",
    "layer_8 = Flatten()\n",
    "layer_9 = Dense(512)\n",
    "layer_9_f = Activation('relu')\n",
    "layer_10 = Dropout(0.5)\n",
    "layer_out = Dense(n_classes)\n",
    "layer_out_f = Activation('softmax')\n",
    "\n",
    "model_addlayer_layers2 = [layer_in, layer_in_f, layer_1, layer_1_f, layer_2, layer_3, layer_4, layer_4_f,\n",
    "                        layer_5, layer_5_f, layer_6, layer_7, \n",
    "                        layer_5_1, layer_5_1_f, layer_5_2, layer_5_2_f, layer_6_2, layer_7_2,\n",
    "                        layer_8, layer_9, layer_9_f, layer_10, \n",
    "                        layer_out, layer_out_f]\n",
    "\n",
    "model_addlayer = full_dense_classifier_compiler(layers_list=model_addlayer_layers2,compile_params=comp_params, \n",
    "                                               display_model=False)\n",
    "\n",
    "model_addlayer = mlp_fit_valid_cnn(model=model_addlayer, train_images=x_train, train_labels_cat=y_train_cat, \n",
    "                                  n_classes=n_classes, n_epochs=25, batch_size=32, verbose_mode=0, \n",
    "                                  validation_data=(x_test, y_test_cat), use_augmentation=False, show_chart=True)"
   ]
  },
  {
   "cell_type": "code",
   "execution_count": 175,
   "metadata": {},
   "outputs": [
    {
     "name": "stdout",
     "output_type": "stream",
     "text": [
      "predict generated in 0.7 sec\n",
      "              precision    recall  f1-score   support\n",
      "\n",
      "           0       0.81      0.84      0.82      1000\n",
      "           1       0.90      0.91      0.90      1000\n",
      "           2       0.83      0.66      0.74      1000\n",
      "           3       0.65      0.65      0.65      1000\n",
      "           4       0.80      0.77      0.79      1000\n",
      "           5       0.71      0.76      0.73      1000\n",
      "           6       0.83      0.88      0.85      1000\n",
      "           7       0.85      0.84      0.85      1000\n",
      "           8       0.87      0.88      0.88      1000\n",
      "           9       0.86      0.90      0.88      1000\n",
      "\n",
      "    accuracy                           0.81     10000\n",
      "   macro avg       0.81      0.81      0.81     10000\n",
      "weighted avg       0.81      0.81      0.81     10000\n",
      "\n"
     ]
    }
   ],
   "source": [
    "# updating results\n",
    "\n",
    "predict = mlp_predict_cnn(model_addlayer, x_test, y_test, show_metrics=True, show_conf_matrix=False)\n",
    "\n",
    "d5 = {\n",
    "    'model_name': 'cifar10_2layers_added',\n",
    "    'augmentation': None,\n",
    "    'activation_fx': 'relu',\n",
    "    'dropout': [0.25, 0.25, 0.25, 0.5],\n",
    "    'padding': 'same',\n",
    "    'optimizer': 'adam(lr=0.001, epsilon=0.01)',\n",
    "    'batch': 32,\n",
    "    'n_epoch': 25}\n",
    "\n",
    "results = add_model_results(predict, description_dict=d5)"
   ]
  },
  {
   "cell_type": "markdown",
   "metadata": {},
   "source": [
    "#### Обзор выбранных вариантов"
   ]
  },
  {
   "cell_type": "code",
   "execution_count": 185,
   "metadata": {},
   "outputs": [
    {
     "data": {
      "text/html": [
       "<div>\n",
       "<style scoped>\n",
       "    .dataframe tbody tr th:only-of-type {\n",
       "        vertical-align: middle;\n",
       "    }\n",
       "\n",
       "    .dataframe tbody tr th {\n",
       "        vertical-align: top;\n",
       "    }\n",
       "\n",
       "    .dataframe thead th {\n",
       "        text-align: right;\n",
       "    }\n",
       "</style>\n",
       "<table border=\"1\" class=\"dataframe\">\n",
       "  <thead>\n",
       "    <tr style=\"text-align: right;\">\n",
       "      <th></th>\n",
       "      <th>model_name</th>\n",
       "      <th>augmentation</th>\n",
       "      <th>activation_fx</th>\n",
       "      <th>dropout</th>\n",
       "      <th>padding</th>\n",
       "      <th>optimizer</th>\n",
       "      <th>batch</th>\n",
       "      <th>n_epoch</th>\n",
       "      <th>f1_macro</th>\n",
       "      <th>accuracy</th>\n",
       "    </tr>\n",
       "  </thead>\n",
       "  <tbody>\n",
       "    <tr>\n",
       "      <td>4</td>\n",
       "      <td>cifar10_2layers_added</td>\n",
       "      <td>None</td>\n",
       "      <td>relu</td>\n",
       "      <td>[0.25, 0.25, 0.25, 0.5]</td>\n",
       "      <td>same</td>\n",
       "      <td>adam(lr=0.001, epsilon=0.01)</td>\n",
       "      <td>32</td>\n",
       "      <td>25</td>\n",
       "      <td>0.809943</td>\n",
       "      <td>0.8108</td>\n",
       "    </tr>\n",
       "    <tr>\n",
       "      <td>3</td>\n",
       "      <td>cifar10_base_adam</td>\n",
       "      <td>None</td>\n",
       "      <td>relu</td>\n",
       "      <td>[0.25, 0.25, 0.5]</td>\n",
       "      <td>same</td>\n",
       "      <td>adam(lr=0.001, epsilon=0.01)</td>\n",
       "      <td>32</td>\n",
       "      <td>25</td>\n",
       "      <td>0.799039</td>\n",
       "      <td>0.7977</td>\n",
       "    </tr>\n",
       "    <tr>\n",
       "      <td>1</td>\n",
       "      <td>cifar10_base_simple_aug</td>\n",
       "      <td>width_shift_range=0.1, height_shift_range=0.1,...</td>\n",
       "      <td>relu</td>\n",
       "      <td>[0.25, 0.25, 0.5]</td>\n",
       "      <td>same</td>\n",
       "      <td>rmsprop(lr=0.0001, decay=1e-6)</td>\n",
       "      <td>32</td>\n",
       "      <td>25</td>\n",
       "      <td>0.754137</td>\n",
       "      <td>0.7580</td>\n",
       "    </tr>\n",
       "    <tr>\n",
       "      <td>0</td>\n",
       "      <td>cifar10_base</td>\n",
       "      <td>None</td>\n",
       "      <td>relu</td>\n",
       "      <td>[0.25, 0.25, 0.5]</td>\n",
       "      <td>same</td>\n",
       "      <td>rmsprop(lr=0.0001, decay=1e-6)</td>\n",
       "      <td>32</td>\n",
       "      <td>25</td>\n",
       "      <td>0.734967</td>\n",
       "      <td>0.7405</td>\n",
       "    </tr>\n",
       "    <tr>\n",
       "      <td>2</td>\n",
       "      <td>cifar10_base_full_aug</td>\n",
       "      <td>rotation:45, width_shift:0.05, height_shift:0....</td>\n",
       "      <td>relu</td>\n",
       "      <td>[0.25, 0.25, 0.5]</td>\n",
       "      <td>same</td>\n",
       "      <td>rmsprop(lr=0.0001, decay=1e-6)</td>\n",
       "      <td>32</td>\n",
       "      <td>25</td>\n",
       "      <td>0.587262</td>\n",
       "      <td>0.6017</td>\n",
       "    </tr>\n",
       "  </tbody>\n",
       "</table>\n",
       "</div>"
      ],
      "text/plain": [
       "                model_name                                       augmentation activation_fx  ... n_epoch  f1_macro accuracy\n",
       "4    cifar10_2layers_added                                               None          relu  ...      25  0.809943   0.8108\n",
       "3        cifar10_base_adam                                               None          relu  ...      25  0.799039   0.7977\n",
       "1  cifar10_base_simple_aug  width_shift_range=0.1, height_shift_range=0.1,...          relu  ...      25  0.754137   0.7580\n",
       "0             cifar10_base                                               None          relu  ...      25  0.734967   0.7405\n",
       "2    cifar10_base_full_aug  rotation:45, width_shift:0.05, height_shift:0....          relu  ...      25  0.587262   0.6017\n",
       "\n",
       "[5 rows x 10 columns]"
      ]
     },
     "execution_count": 185,
     "metadata": {},
     "output_type": "execute_result"
    }
   ],
   "source": [
    "res_df = pd.DataFrame(results)\n",
    "res_df = res_df.sort_values(by='accuracy', ascending=False)\n",
    "res_df"
   ]
  },
  {
   "cell_type": "markdown",
   "metadata": {},
   "source": [
    "Как видно из результатов выше, за счет применения оптимизатора Adam и добавления глубины сети удалось увеличить метрику с 0,74 (base model) до 0,81."
   ]
  },
  {
   "cell_type": "markdown",
   "metadata": {},
   "source": [
    "#### Оптимизация наилучшей модели"
   ]
  },
  {
   "cell_type": "code",
   "execution_count": 186,
   "metadata": {},
   "outputs": [
    {
     "name": "stdout",
     "output_type": "stream",
     "text": [
      "fit process without augmentation started...\n",
      "Epoch 00054: early stopping\n"
     ]
    },
    {
     "data": {
      "image/png": "[encoded data removed]",
      "text/plain": [
       "<Figure size 720x288 with 1 Axes>"
      ]
     },
     "metadata": {
      "needs_background": "light"
     },
     "output_type": "display_data"
    },
    {
     "name": "stdout",
     "output_type": "stream",
     "text": [
      "optimal epoch number: 39\n",
      "params on optimal epoch:\n",
      "accuracy on test: 0.8192, on train: 0.8735\n",
      "best test loss: 0.5571443884372711\n"
     ]
    }
   ],
   "source": [
    "# 10.1. Прогон модели на большом количестве эпох\n",
    "comp_params = {\n",
    "    'loss': 'categorical_crossentropy',\n",
    "    'optimizer': best_opt,\n",
    "    'metrics': ['accuracy']}\n",
    "    \n",
    "layer_in = Conv2D(32, (3, 3), padding='same',input_shape=x_train.shape[1:])\n",
    "layer_in_f = Activation('relu')\n",
    "layer_1 = Conv2D(32, (3, 3))\n",
    "layer_1_f = Activation('relu')\n",
    "layer_2 = MaxPooling2D(pool_size=(2, 2))\n",
    "layer_3 = Dropout(0.25)\n",
    "layer_4 = Conv2D(64, (3, 3), padding='same')\n",
    "layer_4_f = Activation('relu')\n",
    "layer_5 = Conv2D(64, (3, 3))\n",
    "layer_5_f = Activation('relu')\n",
    "layer_6 = MaxPooling2D(pool_size=(2, 2))\n",
    "layer_7 = Dropout(0.25)\n",
    "layer_5_1 = Conv2D(128, (3, 3))\n",
    "layer_5_1_f = Activation('relu')\n",
    "layer_5_2 = Conv2D(128, (3, 3))\n",
    "layer_5_2_f = Activation('relu')\n",
    "layer_6_2 = MaxPooling2D(pool_size=(2, 2))\n",
    "layer_7_2 = Dropout(0.25)\n",
    "layer_8 = Flatten()\n",
    "layer_9 = Dense(512)\n",
    "layer_9_f = Activation('relu')\n",
    "layer_10 = Dropout(0.5)\n",
    "layer_out = Dense(n_classes)\n",
    "layer_out_f = Activation('softmax')\n",
    "\n",
    "model_addlayer_layers2 = [layer_in, layer_in_f, layer_1, layer_1_f, layer_2, layer_3, layer_4, layer_4_f,\n",
    "                        layer_5, layer_5_f, layer_6, layer_7, \n",
    "                        layer_5_1, layer_5_1_f, layer_5_2, layer_5_2_f, layer_6_2, layer_7_2,\n",
    "                        layer_8, layer_9, layer_9_f, layer_10, \n",
    "                        layer_out, layer_out_f]\n",
    "\n",
    "model_addlayer = full_dense_classifier_compiler(layers_list=model_addlayer_layers2,compile_params=comp_params, \n",
    "                                               display_model=False)\n",
    "\n",
    "model_addlayer = mlp_fit_valid_cnn(model=model_addlayer, train_images=x_train, train_labels_cat=y_train_cat, \n",
    "                                  n_classes=n_classes, n_epochs=100, batch_size=32, verbose_mode=0, \n",
    "                                  validation_data=(x_test, y_test_cat), use_augmentation=False, show_chart=True)"
   ]
  },
  {
   "cell_type": "code",
   "execution_count": 188,
   "metadata": {},
   "outputs": [
    {
     "name": "stdout",
     "output_type": "stream",
     "text": [
      "batch size = 16\n",
      "----------------------------------------------------------------------\n",
      "fit process without augmentation started...\n",
      "Epoch 00031: early stopping\n",
      "optimal epoch number: 22\n",
      "params on optimal epoch:\n",
      "accuracy on test: 0.8027, on train: 0.8199\n",
      "best test loss: 0.5866846747040748\n",
      "**********************************************************************\n",
      "batch size = 32\n",
      "----------------------------------------------------------------------\n",
      "fit process without augmentation started...\n",
      "Epoch 00042: early stopping\n",
      "optimal epoch number: 33\n",
      "params on optimal epoch:\n",
      "accuracy on test: 0.8157, on train: 0.8597\n",
      "best test loss: 0.553335294675827\n",
      "**********************************************************************\n",
      "batch size = 48\n",
      "----------------------------------------------------------------------\n",
      "fit process without augmentation started...\n",
      "Epoch 00036: early stopping\n",
      "optimal epoch number: 27\n",
      "params on optimal epoch:\n",
      "accuracy on test: 0.8151, on train: 0.8406\n",
      "best test loss: 0.5711201319217681\n",
      "**********************************************************************\n",
      "batch size = 64\n",
      "----------------------------------------------------------------------\n",
      "fit process without augmentation started...\n",
      "Epoch 00036: early stopping\n",
      "optimal epoch number: 27\n",
      "params on optimal epoch:\n",
      "accuracy on test: 0.8101, on train: 0.8319\n",
      "best test loss: 0.5765805200576782\n",
      "**********************************************************************\n"
     ]
    }
   ],
   "source": [
    "# 10.2. Подбор batch size c кол-вом эпох = 55 (исходя из прошлого оптимального значения = 39)\n",
    "batch_list = [16, 32, 48, 64]\n",
    "\n",
    "for b in batch_list:\n",
    "    print(f'batch size = {b}')\n",
    "    print('-'*70)\n",
    "    comp_params = {\n",
    "        'loss': 'categorical_crossentropy',\n",
    "        'optimizer': best_opt,\n",
    "        'metrics': ['accuracy']}\n",
    "\n",
    "    layer_in = Conv2D(32, (3, 3), padding='same',input_shape=x_train.shape[1:])\n",
    "    layer_in_f = Activation('relu')\n",
    "    layer_1 = Conv2D(32, (3, 3))\n",
    "    layer_1_f = Activation('relu')\n",
    "    layer_2 = MaxPooling2D(pool_size=(2, 2))\n",
    "    layer_3 = Dropout(0.25)\n",
    "    layer_4 = Conv2D(64, (3, 3), padding='same')\n",
    "    layer_4_f = Activation('relu')\n",
    "    layer_5 = Conv2D(64, (3, 3))\n",
    "    layer_5_f = Activation('relu')\n",
    "    layer_6 = MaxPooling2D(pool_size=(2, 2))\n",
    "    layer_7 = Dropout(0.25)\n",
    "    layer_5_1 = Conv2D(128, (3, 3))\n",
    "    layer_5_1_f = Activation('relu')\n",
    "    layer_5_2 = Conv2D(128, (3, 3))\n",
    "    layer_5_2_f = Activation('relu')\n",
    "    layer_6_2 = MaxPooling2D(pool_size=(2, 2))\n",
    "    layer_7_2 = Dropout(0.25)\n",
    "    layer_8 = Flatten()\n",
    "    layer_9 = Dense(512)\n",
    "    layer_9_f = Activation('relu')\n",
    "    layer_10 = Dropout(0.5)\n",
    "    layer_out = Dense(n_classes)\n",
    "    layer_out_f = Activation('softmax')\n",
    "\n",
    "    model_addlayer_layers2 = [layer_in, layer_in_f, layer_1, layer_1_f, layer_2, layer_3, layer_4, layer_4_f,\n",
    "                            layer_5, layer_5_f, layer_6, layer_7, \n",
    "                            layer_5_1, layer_5_1_f, layer_5_2, layer_5_2_f, layer_6_2, layer_7_2,\n",
    "                            layer_8, layer_9, layer_9_f, layer_10, \n",
    "                            layer_out, layer_out_f]\n",
    "\n",
    "    model_addlayer = full_dense_classifier_compiler(layers_list=model_addlayer_layers2,compile_params=comp_params, \n",
    "                                                   display_model=False)\n",
    "\n",
    "    model_addlayer = mlp_fit_valid_cnn(model=model_addlayer, train_images=x_train, train_labels_cat=y_train_cat, \n",
    "                                      n_classes=n_classes, n_epochs=55, batch_size=b, verbose_mode=0, \n",
    "                                      validation_data=(x_test, y_test_cat), use_augmentation=False, show_chart=False)\n",
    "    print('*'*70)"
   ]
  },
  {
   "cell_type": "markdown",
   "metadata": {},
   "source": [
    "Оптимальный размер batch = 32"
   ]
  },
  {
   "cell_type": "code",
   "execution_count": 191,
   "metadata": {},
   "outputs": [
    {
     "name": "stdout",
     "output_type": "stream",
     "text": [
      "fit process without augmentation started...\n",
      "Epoch 00039: early stopping\n"
     ]
    },
    {
     "data": {
      "image/png": "[encoded data removed]",
      "text/plain": [
       "<Figure size 720x288 with 1 Axes>"
      ]
     },
     "metadata": {
      "needs_background": "light"
     },
     "output_type": "display_data"
    },
    {
     "name": "stdout",
     "output_type": "stream",
     "text": [
      "optimal epoch number: 30\n",
      "params on optimal epoch:\n",
      "accuracy on test: 0.8141, on train: 0.8561\n",
      "best test loss: 0.565765739941597\n",
      "predict generated in 0.7 sec\n",
      "              precision    recall  f1-score   support\n",
      "\n",
      "           0       0.81      0.86      0.84      1000\n",
      "           1       0.89      0.93      0.91      1000\n",
      "           2       0.77      0.70      0.74      1000\n",
      "           3       0.66      0.65      0.65      1000\n",
      "           4       0.78      0.82      0.80      1000\n",
      "           5       0.75      0.72      0.73      1000\n",
      "           6       0.80      0.90      0.84      1000\n",
      "           7       0.86      0.85      0.85      1000\n",
      "           8       0.91      0.86      0.88      1000\n",
      "           9       0.92      0.84      0.88      1000\n",
      "\n",
      "    accuracy                           0.81     10000\n",
      "   macro avg       0.81      0.81      0.81     10000\n",
      "weighted avg       0.81      0.81      0.81     10000\n",
      "\n"
     ]
    },
    {
     "data": {
      "image/png": "[encoded data removed]",
      "text/plain": [
       "<Figure size 504x504 with 1 Axes>"
      ]
     },
     "metadata": {
      "needs_background": "light"
     },
     "output_type": "display_data"
    }
   ],
   "source": [
    "# 10.3. Финальное обучение модели и вывод прогноза\n",
    "\n",
    "layer_in = Conv2D(32, (3, 3), padding='same',input_shape=x_train.shape[1:])\n",
    "layer_in_f = Activation('relu')\n",
    "layer_1 = Conv2D(32, (3, 3))\n",
    "layer_1_f = Activation('relu')\n",
    "layer_2 = MaxPooling2D(pool_size=(2, 2))\n",
    "layer_3 = Dropout(0.25)\n",
    "layer_4 = Conv2D(64, (3, 3), padding='same')\n",
    "layer_4_f = Activation('relu')\n",
    "layer_5 = Conv2D(64, (3, 3))\n",
    "layer_5_f = Activation('relu')\n",
    "layer_6 = MaxPooling2D(pool_size=(2, 2))\n",
    "layer_7 = Dropout(0.25)\n",
    "layer_5_1 = Conv2D(128, (3, 3))\n",
    "layer_5_1_f = Activation('relu')\n",
    "layer_5_2 = Conv2D(128, (3, 3))\n",
    "layer_5_2_f = Activation('relu')\n",
    "layer_6_2 = MaxPooling2D(pool_size=(2, 2))\n",
    "layer_7_2 = Dropout(0.25)\n",
    "layer_8 = Flatten()\n",
    "layer_9 = Dense(512)\n",
    "layer_9_f = Activation('relu')\n",
    "layer_10 = Dropout(0.5)\n",
    "layer_out = Dense(n_classes)\n",
    "layer_out_f = Activation('softmax')\n",
    "\n",
    "model_final_layers = [layer_in, layer_in_f, layer_1, layer_1_f, layer_2, layer_3, layer_4, layer_4_f,\n",
    "                        layer_5, layer_5_f, layer_6, layer_7, \n",
    "                        layer_5_1, layer_5_1_f, layer_5_2, layer_5_2_f, layer_6_2, layer_7_2,\n",
    "                        layer_8, layer_9, layer_9_f, layer_10, \n",
    "                        layer_out, layer_out_f]\n",
    "\n",
    "model_final = full_dense_classifier_compiler(layers_list=model_final_layers,compile_params=comp_params, \n",
    "                                               display_model=False)\n",
    "\n",
    "model_final = mlp_fit_valid_cnn(model=model_final, train_images=x_train, train_labels_cat=y_train_cat, \n",
    "                                  n_classes=n_classes, n_epochs=55, batch_size=32, verbose_mode=0, \n",
    "                                  validation_data=(x_test, y_test_cat), use_augmentation=False, show_chart=True)\n",
    "\n",
    "final_predict = mlp_predict_cnn(model_final, x_test, y_test, show_metrics=True, show_conf_matrix=True)"
   ]
  },
  {
   "cell_type": "code",
   "execution_count": 201,
   "metadata": {},
   "outputs": [
    {
     "name": "stdout",
     "output_type": "stream",
     "text": [
      "Model: \"sequential_68\"\n",
      "_________________________________________________________________\n",
      "Layer (type)                 Output Shape              Param #   \n",
      "=================================================================\n",
      "conv2d_283 (Conv2D)          (None, 32, 32, 32)        896       \n",
      "_________________________________________________________________\n",
      "activation_408 (Activation)  (None, 32, 32, 32)        0         \n",
      "_________________________________________________________________\n",
      "conv2d_284 (Conv2D)          (None, 30, 30, 32)        9248      \n",
      "_________________________________________________________________\n",
      "activation_409 (Activation)  (None, 30, 30, 32)        0         \n",
      "_________________________________________________________________\n",
      "max_pooling2d_143 (MaxPoolin (None, 15, 15, 32)        0         \n",
      "_________________________________________________________________\n",
      "dropout_209 (Dropout)        (None, 15, 15, 32)        0         \n",
      "_________________________________________________________________\n",
      "conv2d_285 (Conv2D)          (None, 15, 15, 64)        18496     \n",
      "_________________________________________________________________\n",
      "activation_410 (Activation)  (None, 15, 15, 64)        0         \n",
      "_________________________________________________________________\n",
      "conv2d_286 (Conv2D)          (None, 13, 13, 64)        36928     \n",
      "_________________________________________________________________\n",
      "activation_411 (Activation)  (None, 13, 13, 64)        0         \n",
      "_________________________________________________________________\n",
      "max_pooling2d_144 (MaxPoolin (None, 6, 6, 64)          0         \n",
      "_________________________________________________________________\n",
      "dropout_210 (Dropout)        (None, 6, 6, 64)          0         \n",
      "_________________________________________________________________\n",
      "conv2d_287 (Conv2D)          (None, 4, 4, 128)         73856     \n",
      "_________________________________________________________________\n",
      "activation_412 (Activation)  (None, 4, 4, 128)         0         \n",
      "_________________________________________________________________\n",
      "conv2d_288 (Conv2D)          (None, 2, 2, 128)         147584    \n",
      "_________________________________________________________________\n",
      "activation_413 (Activation)  (None, 2, 2, 128)         0         \n",
      "_________________________________________________________________\n",
      "max_pooling2d_145 (MaxPoolin (None, 1, 1, 128)         0         \n",
      "_________________________________________________________________\n",
      "dropout_211 (Dropout)        (None, 1, 1, 128)         0         \n",
      "_________________________________________________________________\n",
      "flatten_64 (Flatten)         (None, 128)               0         \n",
      "_________________________________________________________________\n",
      "dense_135 (Dense)            (None, 512)               66048     \n",
      "_________________________________________________________________\n",
      "activation_414 (Activation)  (None, 512)               0         \n",
      "_________________________________________________________________\n",
      "dropout_212 (Dropout)        (None, 512)               0         \n",
      "_________________________________________________________________\n",
      "dense_136 (Dense)            (None, 10)                5130      \n",
      "_________________________________________________________________\n",
      "activation_415 (Activation)  (None, 10)                0         \n",
      "=================================================================\n",
      "Total params: 358,186\n",
      "Trainable params: 358,186\n",
      "Non-trainable params: 0\n",
      "_________________________________________________________________\n"
     ]
    }
   ],
   "source": [
    "# 10.4. Итоговая архитектура модели\n",
    "model_final.summary()"
   ]
  }
 ],
 "metadata": {
  "kernelspec": {
   "display_name": "tf_Gpu",
   "language": "python",
   "name": "tensorflow_gpu"
  },
  "language_info": {
   "codemirror_mode": {
    "name": "ipython",
    "version": 3
   },
   "file_extension": ".py",
   "mimetype": "text/x-python",
   "name": "python",
   "nbconvert_exporter": "python",
   "pygments_lexer": "ipython3",
   "version": "3.7.4"
  },
  "toc": {
   "base_numbering": 1,
   "nav_menu": {},
   "number_sections": true,
   "sideBar": true,
   "skip_h1_title": true,
   "title_cell": "Table of Contents",
   "title_sidebar": "Contents",
   "toc_cell": true,
   "toc_position": {
    "height": "calc(100% - 180px)",
    "left": "10px",
    "top": "150px",
    "width": "290.512px"
   },
   "toc_section_display": true,
   "toc_window_display": true
  },
  "varInspector": {
   "cols": {
    "lenName": 16,
    "lenType": 16,
    "lenVar": 40
   },
   "kernels_config": {
    "python": {
     "delete_cmd_postfix": "",
     "delete_cmd_prefix": "del ",
     "library": "var_list.py",
     "varRefreshCmd": "print(var_dic_list())"
    },
    "r": {
     "delete_cmd_postfix": ") ",
     "delete_cmd_prefix": "rm(",
     "library": "var_list.r",
     "varRefreshCmd": "cat(var_dic_list()) "
    }
   },
   "types_to_exclude": [
    "module",
    "function",
    "builtin_function_or_method",
    "instance",
    "_Feature"
   ],
   "window_display": false
  }
 },
 "nbformat": 4,
 "nbformat_minor": 2
}
